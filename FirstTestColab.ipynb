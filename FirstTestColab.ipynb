{
  "nbformat": 4,
  "nbformat_minor": 0,
  "metadata": {
    "colab": {
      "name": "FirstTestColab.ipynb",
      "provenance": [],
      "authorship_tag": "ABX9TyMH3xywAaHX+YQgefPOfj4w",
      "include_colab_link": true
    },
    "kernelspec": {
      "name": "python3",
      "display_name": "Python 3"
    },
    "language_info": {
      "name": "python"
    }
  },
  "cells": [
    {
      "cell_type": "markdown",
      "metadata": {
        "id": "view-in-github",
        "colab_type": "text"
      },
      "source": [
        "<a href=\"https://colab.research.google.com/github/gitced/ColabTest/blob/main/FirstTestColab.ipynb\" target=\"_parent\"><img src=\"https://colab.research.google.com/assets/colab-badge.svg\" alt=\"Open In Colab\"/></a>"
      ]
    },
    {
      "cell_type": "markdown",
      "source": [
        "Un premier test de texte sous colab"
      ],
      "metadata": {
        "id": "8hnVdXW0LlyG"
      }
    },
    {
      "cell_type": "code",
      "source": [
        "print(\"bonjour coco\")"
      ],
      "metadata": {
        "colab": {
          "base_uri": "https://localhost:8080/"
        },
        "id": "rxIO6NvPLqMC",
        "outputId": "16fe2106-6514-401b-ce42-73e48cc001ec"
      },
      "execution_count": 2,
      "outputs": [
        {
          "output_type": "stream",
          "name": "stdout",
          "text": [
            "bonjour coco\n"
          ]
        }
      ]
    },
    {
      "cell_type": "code",
      "source": [
        ""
      ],
      "metadata": {
        "id": "4MucF4FGLs4G"
      },
      "execution_count": null,
      "outputs": []
    }
  ]
}